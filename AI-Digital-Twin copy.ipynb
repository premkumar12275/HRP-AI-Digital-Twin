{
 "cells": [
  {
   "cell_type": "markdown",
   "id": "4849a841",
   "metadata": {},
   "source": [
    "Requirements"
   ]
  },
  {
   "cell_type": "code",
   "execution_count": null,
   "id": "97a596bf",
   "metadata": {},
   "outputs": [],
   "source": [
    "#Install required packages:\n",
    "%pip install -r requirements.txt"
   ]
  },
  {
   "cell_type": "code",
   "execution_count": null,
   "id": "23a3256e",
   "metadata": {},
   "outputs": [],
   "source": [
    "Step 1: Generate Labels"
   ]
  },
  {
   "cell_type": "markdown",
   "id": "81d1eba0",
   "metadata": {},
   "source": [
    "Sample controls"
   ]
  },
  {
   "cell_type": "code",
   "execution_count": null,
   "id": "bf6ac061",
   "metadata": {},
   "outputs": [],
   "source": [
    "import pandas as pd\n",
    "import numpy as np\n",
    "from tqdm import tqdm\n",
    "\n",
    "# Load ICU stays and sepsis cases\n",
    "icustays = pd.read_csv(\"input/ICUSTAYS.csv.gz\", usecols=[\"ICUSTAY_ID\", \"INTIME\", \"OUTTIME\"])\n",
    "labels = pd.read_csv(\"output/sepsis_labels.csv\")\n",
    "\n",
    "# Get non-sepsis ICU stays\n",
    "sepsis_ids = set(labels[\"ICUSTAY_ID\"])\n",
    "non_sepsis = icustays[~icustays[\"ICUSTAY_ID\"].isin(sepsis_ids)].dropna()\n",
    "print(f\"[INFO] Found {len(non_sepsis)} non-sepsis ICU stays\")\n",
    "\n",
    "# Sample same number of controls (or as many as available)\n",
    "n_controls = min(len(non_sepsis), len(labels))\n",
    "controls = non_sepsis.sample(n=n_controls, replace=False, random_state=42).copy()\n",
    "\n",
    "controls[\"INTIME\"] = pd.to_datetime(controls[\"INTIME\"])\n",
    "controls[\"OUTTIME\"] = pd.to_datetime(controls[\"OUTTIME\"])\n",
    "\n",
    "# Pick a random timestamp 12+ hours after INTIME and 12h before OUTTIME\n",
    "def random_control_time(row):\n",
    "    start = row[\"INTIME\"] + pd.Timedelta(hours=12)\n",
    "    end = row[\"OUTTIME\"] - pd.Timedelta(hours=12)\n",
    "    if start >= end:\n",
    "        return np.nan\n",
    "    return pd.to_datetime(start + (end - start) * np.random.rand())\n",
    "\n",
    "controls[\"SEPSIS_ONSET\"] = controls.apply(random_control_time, axis=1)\n",
    "controls = controls.dropna(subset=[\"SEPSIS_ONSET\"])\n",
    "\n",
    "# Save as pseudo-sepsis labels (for reuse)\n",
    "controls[[\"ICUSTAY_ID\", \"SEPSIS_ONSET\"]].to_csv(\"output/control_labels.csv\", index=False)\n",
    "print(f\"[DONE] Sampled {len(controls)} control patients → output/control_labels.csv\")\n"
   ]
  },
  {
   "cell_type": "markdown",
   "id": "14f9d3d6",
   "metadata": {},
   "source": [
    "extract labels"
   ]
  },
  {
   "cell_type": "code",
   "execution_count": null,
   "id": "e1881b3c",
   "metadata": {},
   "outputs": [],
   "source": [
    "import pandas as pd\n",
    "from tqdm import tqdm\n",
    "\n",
    "# Paths to CSVs\n",
    "ICUSTAYS_PATH = \"input/ICUSTAYS.csv.gz\"\n",
    "PRESCRIPTIONS_PATH = \"input/PRESCRIPTIONS.csv.gz\"\n",
    "MICROBIO_PATH = \"input/MICROBIOLOGYEVENTS.csv.gz\"\n",
    "\n",
    "# Load ICU stay data\n",
    "icustays = pd.read_csv(ICUSTAYS_PATH, usecols=[\"ICUSTAY_ID\", \"HADM_ID\", \"INTIME\"])\n",
    "print(f\"[INFO] Loaded {len(icustays)} ICU stays\")\n",
    "\n",
    "# Antibiotics (proxy: generic names with 'cillin', 'cef', 'micin', etc.)\n",
    "prescriptions = pd.read_csv(PRESCRIPTIONS_PATH, usecols=[\"HADM_ID\", \"STARTDATE\", \"DRUG\"])\n",
    "prescriptions = prescriptions.dropna(subset=[\"STARTDATE\", \"DRUG\"])\n",
    "prescriptions = prescriptions[prescriptions[\"DRUG\"].str.lower().str.contains(\"cillin|cef|micin|penem|floxacin|mycin\", na=False)]\n",
    "\n",
    "# Microbiology events\n",
    "microbio = pd.read_csv(MICROBIO_PATH, usecols=[\"HADM_ID\", \"CHARTDATE\"])\n",
    "microbio = microbio.dropna(subset=[\"CHARTDATE\"])\n",
    "\n",
    "# Merge to find suspected infection window\n",
    "merged = pd.merge(prescriptions, microbio, on=\"HADM_ID\", how=\"inner\")\n",
    "merged[\"SUSPECTED_TIME\"] = pd.to_datetime(merged[[\"STARTDATE\", \"CHARTDATE\"]].max(axis=1))\n",
    "\n",
    "# Map to ICU stay\n",
    "merged = pd.merge(merged, icustays, on=\"HADM_ID\", how=\"inner\")\n",
    "merged = merged[merged[\"SUSPECTED_TIME\"] > merged[\"INTIME\"]]\n",
    "suspected_df = merged.groupby(\"ICUSTAY_ID\").SUSPECTED_TIME.min().reset_index()\n",
    "\n",
    "# Simulated SOFA threshold logic (you can refine later)\n",
    "# Placeholder: label everyone with suspicion as \"sepsis\"\n",
    "suspected_df[\"SEPSIS_ONSET\"] = suspected_df[\"SUSPECTED_TIME\"]\n",
    "\n",
    "# Save label file\n",
    "suspected_df[[\"ICUSTAY_ID\", \"SEPSIS_ONSET\"]].to_csv(\"output/sepsis_labels.csv\", index=False)\n",
    "print(f\"[INFO] Labeled {len(suspected_df)} sepsis cases\")\n"
   ]
  },
  {
   "cell_type": "markdown",
   "id": "dea73353",
   "metadata": {},
   "source": [
    "Step 2: Filter CHARTEVENTS"
   ]
  },
  {
   "cell_type": "markdown",
   "id": "10ea6271",
   "metadata": {},
   "source": [
    "Extract only relevant vitals from the full CHARTEVENTS dataset for faster processing."
   ]
  },
  {
   "cell_type": "code",
   "execution_count": null,
   "id": "0e1f5d24",
   "metadata": {},
   "outputs": [],
   "source": [
    "import pandas as pd\n",
    "from tqdm import tqdm\n",
    "\n",
    "# Path to full CHARTEVENTS\n",
    "INPUT_FILE = \"input/CHARTEVENTS.csv.gz\"\n",
    "OUTPUT_FILE = \"output/filtered_chartevents.csv.gz\"\n",
    "\n",
    "# ITEMIDs for vitals we care about (MIMIC-III specific)\n",
    "ITEM_IDS = {\n",
    "    \"Heart Rate\": [211],\n",
    "    \"Systolic BP\": [51],\n",
    "    \"Diastolic BP\": [8368],\n",
    "    \"Mean BP\": [456],\n",
    "    \"Respiratory Rate\": [618],\n",
    "    \"SpO2\": [646],\n",
    "    \"Temperature\": [223761]\n",
    "}\n",
    "\n",
    "ITEMID_LIST = sum(ITEM_IDS.values(), [])  # flatten list of item IDs\n",
    "\n",
    "print(\"[INFO] Filtering CHARTEVENTS.csv.gz — this may take ~5–15 min...\")\n",
    "\n",
    "chunks = []\n",
    "reader = pd.read_csv(\n",
    "    INPUT_FILE,\n",
    "    usecols=[\"ICUSTAY_ID\", \"ITEMID\", \"CHARTTIME\", \"VALUENUM\"],\n",
    "    chunksize=1_000_000,\n",
    "    low_memory=False\n",
    ")\n",
    "\n",
    "for chunk in tqdm(reader):\n",
    "    filtered = chunk[chunk[\"ITEMID\"].isin(ITEMID_LIST)]\n",
    "    chunks.append(filtered)\n",
    "\n",
    "# Combine and save\n",
    "filtered_df = pd.concat(chunks)\n",
    "filtered_df.to_csv(OUTPUT_FILE, index=False, compression=\"gzip\")\n",
    "\n",
    "print(f\"[DONE] Saved filtered CHARTEVENTS to: {OUTPUT_FILE}\")\n",
    "print(f\"[INFO] Rows after filtering: {len(filtered_df)}\")\n"
   ]
  },
  {
   "cell_type": "markdown",
   "id": "871306cb",
   "metadata": {},
   "source": [
    "Step 3: Extract Vitals Features"
   ]
  }
 ],
 "metadata": {
  "kernelspec": {
   "display_name": "ai_hc_a6",
   "language": "python",
   "name": "python3"
  },
  "language_info": {
   "name": "python",
   "version": "3.13.5"
  }
 },
 "nbformat": 4,
 "nbformat_minor": 5
}
